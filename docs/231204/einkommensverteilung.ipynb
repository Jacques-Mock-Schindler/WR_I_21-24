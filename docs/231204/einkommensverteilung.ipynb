{
 "cells": [
  {
   "cell_type": "markdown",
   "metadata": {},
   "source": [
    "# Die Einkommensverteilung in der Schweiz"
   ]
  },
  {
   "cell_type": "markdown",
   "metadata": {},
   "source": [
    "Wie den bei Aymo Brunetti, Volkswirtschaftslehre: Lehrmittel\n",
    "für die Sekundarstufe II und die Weiterbildung, 15. Auflage, Bern 2023,\n",
    "Seite 102, dargestellten Daten des Staatssekretariats für Wirtschaft\n",
    "(seco) entnommen werden kann, wird mehr als die Hälfte des BIP als\n",
    "Arbeitserwerb verteilt."
   ]
  },
  {
   "cell_type": "markdown",
   "metadata": {},
   "source": [
    "Im folgenden soll darüber nachgedacht werden, wie gerecht diese\n",
    "Erwerbseinkommen verteilt werden."
   ]
  },
  {
   "cell_type": "markdown",
   "metadata": {},
   "source": [
    "Gerechtigkeit wird immer wieder mit Gleichheit in Verbindung gebracht."
   ]
  },
  {
   "cell_type": "markdown",
   "metadata": {},
   "source": [
    "Eine absolute Gleichheit verursacht allerdings auch Ungerechtigkeiten.\n",
    "\n",
    "![Chancengleichheit](gerechtigkeit.jpg)\n",
    "*https://www.walterherzog.ch/cartoons/chancengleichheit/ besucht am 3.12.23*"
   ]
  },
  {
   "cell_type": "code",
   "execution_count": null,
   "metadata": {},
   "outputs": [],
   "source": []
  }
 ],
 "metadata": {
  "language_info": {
   "name": "python"
  }
 },
 "nbformat": 4,
 "nbformat_minor": 2
}
