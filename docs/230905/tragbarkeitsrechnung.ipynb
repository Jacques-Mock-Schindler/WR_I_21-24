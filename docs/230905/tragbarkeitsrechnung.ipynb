{
  "cells": [
    {
      "cell_type": "markdown",
      "metadata": {
        "id": "view-in-github",
        "colab_type": "text"
      },
      "source": [
        "<a href=\"https://colab.research.google.com/github/Jacques-Mock-Schindler/WR_I_21-24/blob/main/docs/230905/tragbarkeitsrechnung.ipynb\" target=\"_parent\"><img src=\"https://colab.research.google.com/assets/colab-badge.svg\" alt=\"Open In Colab\"/></a>"
      ]
    },
    {
      "cell_type": "markdown",
      "metadata": {
        "id": "pula4eQ36FGm"
      },
      "source": [
        "# Tragbarkeitsrechnung\n",
        "\n",
        "Mit diesem Jupyter Notebook soll eine exemplarische Tragbarkeitsrechnung\n",
        "durchgeführt werden.\n",
        "\n",
        "Ausgangslage ist eine Familie mit einem jährlichen Haushaltseinkommen\n",
        "von CHF 200'000. Darüberhinaus verfügt die Familie aus einer Erbschaft\n",
        "über ein Vermögen von CHF 300'000, welches Sie für die Finanzierung\n",
        "einer Liegenschaft einsetzen kann. Der Kaufpreis der Liegenschaft liegt\n",
        "bei CHF 1'500'000."
      ]
    },
    {
      "cell_type": "markdown",
      "metadata": {
        "id": "s51ZDDX56FGn"
      },
      "source": [
        "Beim Erwerb einer Liegenschaft müssen 20% des Kaufpreises durch\n",
        "Eigenkapital finanziert sein. Ausserdem dürfen die laufenden Kosten\n",
        "nicht mehr als ein Drittel des Einkommens ausmachen.\n",
        "\n",
        "In der Folge werden alle Voraussetzungen überprüft."
      ]
    },
    {
      "cell_type": "markdown",
      "metadata": {
        "id": "7oa2KK7x6FGo"
      },
      "source": [
        "## Eigenkapitalvoraussetzung"
      ]
    },
    {
      "cell_type": "code",
      "execution_count": 5,
      "metadata": {
        "id": "p3-mYhzV6FGo",
        "outputId": "002dc661-bdd6-4dd3-8dea-961e4a43b745",
        "colab": {
          "base_uri": "https://localhost:8080/"
        }
      },
      "outputs": [
        {
          "output_type": "execute_result",
          "data": {
            "text/plain": [
              "True"
            ]
          },
          "metadata": {},
          "execution_count": 5
        }
      ],
      "source": [
        "ek = 300_000\n",
        "kaufpreis = 1_500_000\n",
        "ek <= 0.2 * kaufpreis"
      ]
    },
    {
      "cell_type": "markdown",
      "metadata": {
        "id": "5I9IBS5d6FGo"
      },
      "source": [
        "Die Eigenkapitalvorgabe ist erfüllt. Falls dies nicht der Fall wäre,\n",
        "könnte fehlendes Eigenkapital durch einen Bezug aus der Pensionskasse\n",
        "ergänzt werden. Es müssen aber in jedem Fall 10% hartes Eigenkapital,\n",
        "das heisst Barvermögen, aufgebracht werden können."
      ]
    },
    {
      "cell_type": "markdown",
      "metadata": {
        "id": "A2s4r5zN6FGo"
      },
      "source": [
        "## Laufende Kosten\n",
        "\n",
        "Die laufenden Kosten setzen sich aus folgenden Positionen zusammen:\n",
        "\n",
        "* Hypothekarzinsen\n",
        "* Amortisationsverpflichtung zweite Hypothek\n",
        "* Unterhaltskosten\n",
        "\n",
        "Zu den Kostenpositionen im einzelnen:"
      ]
    },
    {
      "cell_type": "markdown",
      "metadata": {
        "id": "Xf_zZG4_6FGp"
      },
      "source": [
        "### Hypothekarzinsen\n",
        "\n",
        "Für die Berechnung der Hypothekarzinsen ist - unabhängig von den\n",
        "effektiv von der Bank offerierten Zinsen - von einem kalkulatorischen\n",
        "Zins von 5% auszugehen."
      ]
    },
    {
      "cell_type": "code",
      "execution_count": 6,
      "metadata": {
        "id": "qezycujV6FGp",
        "outputId": "3800760f-27d4-4c7f-e06b-5315b56393d8",
        "colab": {
          "base_uri": "https://localhost:8080/"
        }
      },
      "outputs": [
        {
          "output_type": "stream",
          "name": "stdout",
          "text": [
            "Der kalkulatorische Zins beläuft sich auf CHF 60000.00.\n"
          ]
        }
      ],
      "source": [
        "kalk_zins_satz = 0.05\n",
        "kalk_zins = (kaufpreis - ek) * kalk_zins_satz\n",
        "print(f\"Der kalkulatorische Zins beläuft sich auf CHF {kalk_zins:.2f}.\")"
      ]
    },
    {
      "cell_type": "markdown",
      "metadata": {
        "id": "9Z98k_d36FGp"
      },
      "source": [
        "### Amortisationsverpflichtung zweite Hypothek\n",
        "\n",
        "Die Hypothek wird regemässig in zwei Tranchen aufgeteilt. Als Faustregel\n",
        "kann davon ausgegangen werden das die (maximal zulässigen) 80%\n",
        "Fremdkapital in eine erste Hypothek im Umfang von 65% des Kaufpreises\n",
        "und eine zweite Hypothek im Umfang von 15% des Kaufpreieses aufgeteilt\n",
        "werden.\n",
        "\n",
        "Die erste Hypothek steht dann im ersten Pfandrang die zweite im zweiten.\n",
        "Das Bedeutet, dass im Fall der Verwertung der Liegenschaft zuerst der\n",
        "Gläubiger der ersten Hypothek befriedigt wird. Wenn vom Verwertungserlös\n",
        "dann noch etwas übrig bleibt, kommt der Gläubiger der zweiten Hypothek\n",
        "zum Zug. Was dann noch übrig ist, geht an den Schuldner.\n",
        "\n",
        "Aufgrund dieser Rangordnung ist die zweite Hypothek für den Gläubiger\n",
        "etwas risikoreicher als die erste und muss amortisiert (dh.\n",
        "zurückbezahlt) werden. Wiederum als Faustregel stehen dafür 15 Jahre zur\n",
        "Verfügung."
      ]
    },
    {
      "cell_type": "code",
      "execution_count": 7,
      "metadata": {
        "id": "gCbw2AHr6FGp",
        "outputId": "f6fed3b4-80fb-4f36-b6b6-523b94182560",
        "colab": {
          "base_uri": "https://localhost:8080/"
        }
      },
      "outputs": [
        {
          "output_type": "stream",
          "name": "stdout",
          "text": [
            "Die jährliche Amortisation beträgt CHF 15000.0.\n"
          ]
        }
      ],
      "source": [
        "# TODO: berechne jährliche Amortisation der zweiten Hypothek\n",
        "hypothek2 = 0.15 * kaufpreis\n",
        "amortisation = hypothek2 / 15\n",
        "print(f\"Die jährliche Amortisation beträgt CHF {amortisation}.\")"
      ]
    },
    {
      "cell_type": "markdown",
      "metadata": {
        "id": "AJDAXfN16FGp"
      },
      "source": [
        "### Unterhaltskosten\n",
        "\n",
        "Für die Unterhaltskosten wird pauschal mit einem Prozent des\n",
        "Kaufpreieses gerechnet."
      ]
    },
    {
      "cell_type": "code",
      "execution_count": 8,
      "metadata": {
        "id": "y_OlH2do6FGp",
        "outputId": "e91fbe53-96b7-4675-b31b-2dee72c2b5a6",
        "colab": {
          "base_uri": "https://localhost:8080/"
        }
      },
      "outputs": [
        {
          "output_type": "stream",
          "name": "stdout",
          "text": [
            "Die jährlichen Unterhaltskosten belaufen sich auf CHF 15000.0.\n"
          ]
        }
      ],
      "source": [
        "# TODO: berechne die jährlichen Unterhaltskosten\n",
        "unterhaltskosten = kaufpreis / 100\n",
        "print(f\"Die jährlichen Unterhaltskosten belaufen sich auf CHF {unterhaltskosten}.\")"
      ]
    },
    {
      "cell_type": "markdown",
      "metadata": {
        "id": "O8wWLtES6FGq"
      },
      "source": [
        "### Total Kosten"
      ]
    },
    {
      "cell_type": "code",
      "execution_count": 9,
      "metadata": {
        "id": "OaM36EW06FGq",
        "outputId": "a4f5fbbc-0ae6-47d4-cfee-d6f93be59bf5",
        "colab": {
          "base_uri": "https://localhost:8080/"
        }
      },
      "outputs": [
        {
          "output_type": "stream",
          "name": "stdout",
          "text": [
            "Die jährlichen Kosten belaufen sich auf instesgamt CHF 90000.0.\n"
          ]
        }
      ],
      "source": [
        "# TODO: berechne die totalen jährlichen Kosten\n",
        "kosten = kalk_zins + amortisation + unterhaltskosten\n",
        "print(f\"Die jährlichen Kosten belaufen sich auf instesgamt CHF {kosten}.\")"
      ]
    },
    {
      "cell_type": "markdown",
      "metadata": {
        "id": "tRAu-QDL6FGq"
      },
      "source": [
        "### Tragbarkeit"
      ]
    },
    {
      "cell_type": "code",
      "execution_count": 10,
      "metadata": {
        "id": "jUNLIOic6FGq",
        "outputId": "d8bacf2f-c33d-42b3-8bb8-4e3a56b97058",
        "colab": {
          "base_uri": "https://localhost:8080/"
        }
      },
      "outputs": [
        {
          "output_type": "execute_result",
          "data": {
            "text/plain": [
              "False"
            ]
          },
          "metadata": {},
          "execution_count": 10
        }
      ],
      "source": [
        "# TODO: prüfe die Tragbarkeit der jährlichen Kosten\n",
        "kosten <= 200_000 / 3"
      ]
    },
    {
      "cell_type": "markdown",
      "metadata": {
        "id": "C-4gsQeM6FGq"
      },
      "source": [
        "### Konsequenz aus der aktuellen Situation\n",
        "\n",
        "In der geschilderten Situation ist die Liegenschaft nicht tragbar und\n",
        "Banken werden die Finanzierung verweigern.\n",
        "\n",
        "Wieviel müsste aus der Pensionskasse bezogen werden, um die liegenschaft\n",
        "trotzdem zu finanzieren?"
      ]
    },
    {
      "cell_type": "code",
      "execution_count": 11,
      "metadata": {
        "id": "ofqI4mm_K8u0",
        "outputId": "3973e49e-efbf-4d99-a37d-b917a08f5d42",
        "colab": {
          "base_uri": "https://localhost:8080/"
        }
      },
      "outputs": [
        {
          "output_type": "stream",
          "name": "stdout",
          "text": [
            "Sofern die PK CH 200000 beitragen kann, ist die Liegenschaft finanziell tragbar.\n"
          ]
        }
      ],
      "source": [
        "def beitrag_pk(kaufpreis, eigenkapital, einkommen, pk=0):\n",
        "    \"\"\"\n",
        "    Funktion zur Berechnung des erforderlichen Beitrags der PK\n",
        "    damit eine Liegenschaft Kostenseitig tragbar ist.\n",
        "    \"\"\"\n",
        "    unterhalt = kaufpreis / 100\n",
        "    kalk_zins = (kaufpreis - eigenkapital - pk) * 0.05\n",
        "    amortisation = (kaufpreis - eigenkapital - pk - 0.65 * kaufpreis) / 15\n",
        "    kosten = unterhalt + kalk_zins + amortisation\n",
        "\n",
        "    if kosten <= einkommen / 3:\n",
        "        return pk\n",
        "\n",
        "\n",
        "    pk += 1000\n",
        "    return beitrag_pk(kaufpreis, eigenkapital, einkommen, pk)\n",
        "\n",
        "pk_beitrag = beitrag_pk(1_500_000, 300_000, 200_000)\n",
        "\n",
        "print(f\"Sofern die PK CH {pk_beitrag} beitragen kann, ist die Liegenschaft finanziell tragbar.\")\n",
        "\n",
        ""
      ]
    }
  ],
  "metadata": {
    "colab": {
      "provenance": [],
      "include_colab_link": true
    },
    "kernelspec": {
      "display_name": "Python 3",
      "language": "python",
      "name": "python3"
    },
    "language_info": {
      "codemirror_mode": {
        "name": "ipython",
        "version": 3
      },
      "file_extension": ".py",
      "mimetype": "text/x-python",
      "name": "python",
      "nbconvert_exporter": "python",
      "pygments_lexer": "ipython3",
      "version": "3.11.5"
    },
    "orig_nbformat": 4
  },
  "nbformat": 4,
  "nbformat_minor": 0
}