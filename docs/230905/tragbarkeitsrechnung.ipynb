{
  "cells": [
    {
      "cell_type": "markdown",
      "metadata": {
        "colab_type": "text",
        "id": "view-in-github"
      },
      "source": [
        "<a href=\"https://colab.research.google.com/github/Jacques-Mock-Schindler/WR_I_21-24/blob/main/docs/230905/tragbarkeitsrechnung.ipynb\" target=\"_parent\"><img src=\"https://colab.research.google.com/assets/colab-badge.svg\" alt=\"Open In Colab\"/></a>"
      ]
    },
    {
      "cell_type": "markdown",
      "metadata": {
        "id": "pula4eQ36FGm"
      },
      "source": [
        "# Tragbarkeitsrechnung\n",
        "\n",
        "Mit diesem Jupyter Notebook soll eine exemplarische Tragbarkeitsrechnung\n",
        "durchgeführt werden.\n",
        "\n",
        "Ausgangslage ist eine Familie mit einem jährlichen Haushaltseinkommen\n",
        "von CHF 200'000. Darüberhinaus verfügt die Familie aus einer Erbschaft\n",
        "über ein Vermögen von CHF 300'000, welches Sie für die Finanzierung\n",
        "einer Liegenschaft einsetzen kann. Der Kaufpreis der Liegenschaft liegt\n",
        "bei CHF 1'500'000."
      ]
    },
    {
      "cell_type": "markdown",
      "metadata": {
        "id": "s51ZDDX56FGn"
      },
      "source": [
        "Beim Erwerb einer Liegenschaft müssen 20% des Kaufpreises durch\n",
        "Eigenkapital finanziert sein. Ausserdem dürfen die laufenden Kosten\n",
        "nicht mehr als ein Drittel des Einkommens ausmachen.\n",
        "\n",
        "In der Folge werden alle Voraussetzungen überprüft."
      ]
    },
    {
      "cell_type": "markdown",
      "metadata": {
        "id": "7oa2KK7x6FGo"
      },
      "source": [
        "## Eigenkapitalvoraussetzung"
      ]
    },
    {
      "cell_type": "code",
      "execution_count": 1,
      "metadata": {
        "id": "p3-mYhzV6FGo"
      },
      "outputs": [
        {
          "data": {
            "text/plain": [
              "True"
            ]
          },
          "execution_count": 1,
          "metadata": {},
          "output_type": "execute_result"
        }
      ],
      "source": [
        "300_000 <= 0.2 * 1_500_000"
      ]
    },
    {
      "cell_type": "markdown",
      "metadata": {
        "id": "5I9IBS5d6FGo"
      },
      "source": [
        "Die Eigenkapitalvorgabe ist erfüllt. Falls dies nicht der Fall wäre,\n",
        "könnte fehlendes Eigenkapital durch einen Bezug aus der Pensionskasse\n",
        "ergänzt werden. Es müssen aber in jedem Fall 10% hartes Eigenkapital,\n",
        "das heisst Barvermögen, aufgebracht werden können."
      ]
    },
    {
      "cell_type": "markdown",
      "metadata": {
        "id": "A2s4r5zN6FGo"
      },
      "source": [
        "## Laufende Kosten\n",
        "\n",
        "Die laufenden Kosten setzen sich aus folgenden Positionen zusammen:\n",
        "\n",
        "* Hypothekarzinsen\n",
        "* Amortisationsverpflichtung zweite Hypothek\n",
        "* Unterhaltskosten\n",
        "\n",
        "Zu den Kostenpositionen im einzelnen:"
      ]
    },
    {
      "cell_type": "markdown",
      "metadata": {
        "id": "Xf_zZG4_6FGp"
      },
      "source": [
        "### Hypothekarzinsen\n",
        "\n",
        "Für die Berechnung der Hypothekarzinsen ist - unabhängig von den\n",
        "effektiv von der Bank offerierten Zinsen - von einem kalkulatorischen\n",
        "Zins von 5% auszugehen."
      ]
    },
    {
      "cell_type": "code",
      "execution_count": 4,
      "metadata": {
        "id": "qezycujV6FGp"
      },
      "outputs": [
        {
          "name": "stdout",
          "output_type": "stream",
          "text": [
            "60000.0\n"
          ]
        }
      ],
      "source": [
        "kaufpreis = 1_500_000\n",
        "zins = kaufpreis * 0.8 * 0.05\n",
        "print(zins)"
      ]
    },
    {
      "cell_type": "markdown",
      "metadata": {
        "id": "9Z98k_d36FGp"
      },
      "source": [
        "### Amortisationsverpflichtung zweite Hypothek\n",
        "\n",
        "Die Hypothek wird regemässig in zwei Tranchen aufgeteilt. Als Faustregel\n",
        "kann davon ausgegangen werden das die (maximal zulässigen) 80%\n",
        "Fremdkapital in eine erste Hypothek im Umfang von 65% des Kaufpreises\n",
        "und eine zweite Hypothek im Umfang von 15% des Kaufpreieses aufgeteilt\n",
        "werden.\n",
        "\n",
        "Die erste Hypothek steht dann im ersten Pfandrang die zweite im zweiten.\n",
        "Das Bedeutet, dass im Fall der Verwertung der Liegenschaft zuerst der\n",
        "Gläubiger der ersten Hypothek befriedigt wird. Wenn vom Verwertungserlös\n",
        "dann noch etwas übrig bleibt, kommt der Gläubiger der zweiten Hypothek\n",
        "zum Zug. Was dann noch übrig ist, geht an den Schuldner.\n",
        "\n",
        "Aufgrund dieser Rangordnung ist die zweite Hypothek für den Gläubiger\n",
        "etwas risikoreicher als die erste und muss amortisiert (dh.\n",
        "zurückbezahlt) werden. Wiederum als Faustregel stehen dafür 15 Jahre zur\n",
        "Verfügung."
      ]
    },
    {
      "cell_type": "code",
      "execution_count": null,
      "metadata": {
        "id": "gCbw2AHr6FGp"
      },
      "outputs": [],
      "source": [
        "# TODO: berechne jährliche Amortisation der zweiten Hypothek"
      ]
    },
    {
      "cell_type": "markdown",
      "metadata": {
        "id": "AJDAXfN16FGp"
      },
      "source": [
        "### Unterhaltskosten\n",
        "\n",
        "Für die Unterhaltskosten wird pauschal mit einem Prozent des\n",
        "Kaufpreieses gerechnet."
      ]
    },
    {
      "cell_type": "code",
      "execution_count": null,
      "metadata": {
        "id": "y_OlH2do6FGp"
      },
      "outputs": [],
      "source": [
        "# TODO: berechne die jährlichen Unterhaltskosten"
      ]
    },
    {
      "cell_type": "markdown",
      "metadata": {
        "id": "O8wWLtES6FGq"
      },
      "source": [
        "### Total Kosten"
      ]
    },
    {
      "cell_type": "code",
      "execution_count": null,
      "metadata": {
        "id": "OaM36EW06FGq"
      },
      "outputs": [],
      "source": [
        "# TODO: berechne die totalen jährlichen Kosten"
      ]
    },
    {
      "cell_type": "markdown",
      "metadata": {
        "id": "tRAu-QDL6FGq"
      },
      "source": [
        "### Tragbarkeit"
      ]
    },
    {
      "cell_type": "code",
      "execution_count": null,
      "metadata": {
        "id": "jUNLIOic6FGq"
      },
      "outputs": [],
      "source": [
        "# TODO: prüfe die Tragbarkeit der jährlichen Kosten"
      ]
    },
    {
      "cell_type": "markdown",
      "metadata": {
        "id": "C-4gsQeM6FGq"
      },
      "source": [
        "### Konsequenz aus der aktuellen Situation\n",
        "\n",
        "hier ist eine Schlussfolgerung zu formulieren"
      ]
    }
  ],
  "metadata": {
    "colab": {
      "include_colab_link": true,
      "provenance": []
    },
    "kernelspec": {
      "display_name": "Python 3",
      "language": "python",
      "name": "python3"
    },
    "language_info": {
      "codemirror_mode": {
        "name": "ipython",
        "version": 3
      },
      "file_extension": ".py",
      "mimetype": "text/x-python",
      "name": "python",
      "nbconvert_exporter": "python",
      "pygments_lexer": "ipython3",
      "version": "3.11.5"
    },
    "orig_nbformat": 4
  },
  "nbformat": 4,
  "nbformat_minor": 0
}
