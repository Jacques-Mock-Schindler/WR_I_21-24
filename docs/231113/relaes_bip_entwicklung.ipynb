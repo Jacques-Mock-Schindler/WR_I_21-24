{
 "cells": [
  {
   "cell_type": "markdown",
   "metadata": {},
   "source": [
    "# Visualisierung der Entwicklung des realen BIP in der Schweiz\n",
    "\n",
    "In diesem Notebook wird die Entwicklung des realen BIP in der Schweiz visualisiert. Die verwendeten Daten stammen vom Bundesamt für Statistik."
   ]
  },
  {
   "cell_type": "code",
   "execution_count": null,
   "metadata": {},
   "outputs": [],
   "source": []
  },
  {
   "cell_type": "code",
   "execution_count": null,
   "metadata": {},
   "outputs": [],
   "source": []
  }
 ],
 "metadata": {
  "language_info": {
   "name": "python"
  }
 },
 "nbformat": 4,
 "nbformat_minor": 2
}
